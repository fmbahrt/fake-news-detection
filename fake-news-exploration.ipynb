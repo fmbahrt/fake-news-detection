{
 "cells": [
  {
   "cell_type": "markdown",
   "metadata": {},
   "source": [
    "### Imports"
   ]
  },
  {
   "cell_type": "code",
   "execution_count": 1,
   "metadata": {},
   "outputs": [],
   "source": [
    "import psycopg2"
   ]
  },
  {
   "cell_type": "markdown",
   "metadata": {},
   "source": [
    "### Establish database connection"
   ]
  },
  {
   "cell_type": "code",
   "execution_count": 4,
   "metadata": {},
   "outputs": [],
   "source": [
    "conn = psycopg2.connect(user = \"admin\",\n",
    "                        password = \"admin\",\n",
    "                        host = \"localhost\",\n",
    "                        port = \"5432\",\n",
    "                        database = \"fakenews_100k\")\n",
    "cursor = conn.cursor()"
   ]
  },
  {
   "cell_type": "markdown",
   "metadata": {},
   "source": [
    "### Proof that we have a working database"
   ]
  },
  {
   "cell_type": "code",
   "execution_count": 13,
   "metadata": {},
   "outputs": [
    {
     "name": "stdout",
     "output_type": "stream",
     "text": [
      "Database contains 100000 scraped articles\n"
     ]
    }
   ],
   "source": [
    "cursor.execute(\"SELECT count(*) FROM article\")\n",
    "count = cursor.fetchone()[0]\n",
    "print \"Database contains {} scraped articles\".format(count)"
   ]
  },
  {
   "cell_type": "markdown",
   "metadata": {},
   "source": [
    "#### We can associate an article with a label"
   ]
  },
  {
   "cell_type": "code",
   "execution_count": 29,
   "metadata": {},
   "outputs": [],
   "source": [
    "cursor.execute(\"SELECT article.article_id, typ.type_name FROM article INNER JOIN typ ON article.type_id = typ.type_id\")\n",
    "res = cursor.fetchmany(10)"
   ]
  },
  {
   "cell_type": "code",
   "execution_count": 43,
   "metadata": {},
   "outputs": [
    {
     "name": "stdout",
     "output_type": "stream",
     "text": [
      "article_id\t type_name   \n",
      "------------------------------\n",
      "         2\t        rumor\n",
      "         6\t         hate\n",
      "         7\t         hate\n",
      "         8\t         hate\n",
      "         9\t         hate\n",
      "        10\t         hate\n",
      "        11\t   unreliable\n",
      "        13\t   unreliable\n",
      "        14\t   unreliable\n",
      "        15\t   unreliable\n"
     ]
    }
   ],
   "source": [
    "print \"{:10}\\t {:12}\".format(\"article_id\", \"type_name\")\n",
    "print \"------------------------------\"\n",
    "for row in res:\n",
    "    print \"{:10}\\t {:>12}\".format(row[0], row[1])"
   ]
  },
  {
   "cell_type": "markdown",
   "metadata": {},
   "source": [
    "# Fake News Corpus"
   ]
  },
  {
   "cell_type": "markdown",
   "metadata": {},
   "source": [
    "## Basic Statistics"
   ]
  },
  {
   "cell_type": "code",
   "execution_count": null,
   "metadata": {},
   "outputs": [],
   "source": []
  }
 ],
 "metadata": {
  "kernelspec": {
   "display_name": "Python 2",
   "language": "python",
   "name": "python2"
  },
  "language_info": {
   "codemirror_mode": {
    "name": "ipython",
    "version": 2
   },
   "file_extension": ".py",
   "mimetype": "text/x-python",
   "name": "python",
   "nbconvert_exporter": "python",
   "pygments_lexer": "ipython2",
   "version": "2.7.15"
  }
 },
 "nbformat": 4,
 "nbformat_minor": 2
}
